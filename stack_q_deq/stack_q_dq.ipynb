{
 "cells": [
  {
   "cell_type": "markdown",
   "metadata": {},
   "source": [
    "# Dequeue"
   ]
  },
  {
   "cell_type": "code",
   "execution_count": 6,
   "metadata": {},
   "outputs": [],
   "source": [
    "class Deque:\n",
    "    def __init__(self):\n",
    "        self.items = []\n",
    "\n",
    "    def isEmpty(self):\n",
    "        return self.items == []\n",
    "\n",
    "    def addFront(self, item):\n",
    "        self.items.append(item)\n",
    "\n",
    "    def addRear(self, item):\n",
    "        self.items.insert(0,item)\n",
    "\n",
    "    def removeFront(self):\n",
    "        return self.items.pop()\n",
    "\n",
    "    def removeRear(self):\n",
    "        return self.items.pop(0)\n",
    "\n",
    "    def size(self):\n",
    "        return len(self.items)"
   ]
  },
  {
   "cell_type": "markdown",
   "metadata": {},
   "source": [
    "## Text Editor"
   ]
  },
  {
   "cell_type": "code",
   "execution_count": null,
   "metadata": {},
   "outputs": [],
   "source": [
    "# HackerRank: Simple Text Editor\n",
    "\n",
    "class Stack(object):\n",
    "    def __init__(self):\n",
    "        self.items = ''\n",
    "        self.lop = []\n",
    "\n",
    "    def append(self, w):\n",
    "        self.items += w\n",
    "        self.lop.append(('append', w))\n",
    "\n",
    "    def delete(self, k):\n",
    "        sl = self.items[len(self.items)-k:]\n",
    "        self.items = self.items[:-k]\n",
    "        self.lop.append(('delete', sl))\n",
    "\n",
    "    def print(self, i):\n",
    "        print(self.items[i])\n",
    "\n",
    "    def undo(self):\n",
    "        a, b = self.lop.pop()\n",
    "       \n",
    "        if a == 'append':\n",
    "            self.items = self.items[:-len(b)]\n",
    "        elif a == 'delete':\n",
    "            self.items += b\n",
    "\n",
    "if __name__ == '__main__':\n",
    "    d = {1: 'append', 2: 'delete', 3: 'print', 4: 'undo'}\n",
    "    m = Stack()\n",
    "    q = int(input().strip())\n",
    "    i = 0\n",
    "    while i < q:\n",
    "        x = input().strip().split(' ')\n",
    "        if d[int(x[0])] == 'append':\n",
    "            m.append(x[1])\n",
    "        elif d[int(x[0])] == 'delete':\n",
    "            m.delete(int(x[1]))\n",
    "        elif d[int(x[0])] == 'print':\n",
    "            m.print(int(x[1])-1)\n",
    "        else:\n",
    "            m.undo()\n",
    "\n",
    "        i += 1"
   ]
  }
 ],
 "metadata": {
  "kernelspec": {
   "display_name": "Python 3",
   "language": "python",
   "name": "python3"
  },
  "language_info": {
   "codemirror_mode": {
    "name": "ipython",
    "version": 3
   },
   "file_extension": ".py",
   "mimetype": "text/x-python",
   "name": "python",
   "nbconvert_exporter": "python",
   "pygments_lexer": "ipython3",
   "version": "3.5.2"
  }
 },
 "nbformat": 4,
 "nbformat_minor": 2
}
