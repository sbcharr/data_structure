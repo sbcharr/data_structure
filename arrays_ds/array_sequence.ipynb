{
 "cells": [
  {
   "cell_type": "code",
   "execution_count": null,
   "metadata": {},
   "outputs": [],
   "source": [
    "#1 Given a string, find out if all characters are unique (input is all lower case)"
   ]
  },
  {
   "cell_type": "code",
   "execution_count": null,
   "metadata": {},
   "outputs": [],
   "source": [
    "def uniq_char(s):\n",
    "    return len(set(s)) == len(s)"
   ]
  },
  {
   "cell_type": "code",
   "execution_count": null,
   "metadata": {},
   "outputs": [],
   "source": [
    "\"\"\"\n",
    "RUN THIS CELL TO TEST THE CODE\n",
    "\"\"\"\n",
    "import unittest as ut\n",
    "\n",
    "\n",
    "class TestUnique(ut.TestCase):\n",
    "\n",
    "    def test(self, sol):\n",
    "        self.assertEqual(sol(''), True)\n",
    "        self.assertEqual(sol('goo'), False)\n",
    "        self.assertEqual(sol('abcdefg'), True)\n",
    "        print('ALL TEST CASES PASSED')\n",
    "        \n",
    "# Run Tests\n",
    "t = TestUnique()\n",
    "t.test(uniq_char)"
   ]
  },
  {
   "cell_type": "code",
   "execution_count": null,
   "metadata": {},
   "outputs": [],
   "source": [
    "#2 Given a string in the form 'AAAABBBBCCCCCDDEEEE' compress it to become 'A4B4C5D2E4'."
   ]
  },
  {
   "cell_type": "code",
   "execution_count": null,
   "metadata": {},
   "outputs": [],
   "source": [
    "def compress(s):\n",
    "    from collections import OrderedDict\n",
    "    if len(s) == 0:\n",
    "        return ''\n",
    "    d = OrderedDict()\n",
    "    l = s[0]\n",
    "    c = 1\n",
    "    final_str = ''\n",
    "    for i in range(1, len(s)):\n",
    "        if s[i] == l:\n",
    "            c += 1\n",
    "        else:\n",
    "            d[l] = c\n",
    "            c = 1\n",
    "            l = s[i] \n",
    "    d[l] = c        \n",
    "    for key in d.keys():\n",
    "        final_str += key + str(d[key])\n",
    "            \n",
    "    return final_str    "
   ]
  },
  {
   "cell_type": "code",
   "execution_count": null,
   "metadata": {},
   "outputs": [],
   "source": [
    "compress('AABBCC')"
   ]
  },
  {
   "cell_type": "code",
   "execution_count": null,
   "metadata": {},
   "outputs": [],
   "source": [
    "\"\"\"\n",
    "RUN THIS CELL TO TEST THE SOLUTION\n",
    "\"\"\"\n",
    "import unittest as ut\n",
    "\n",
    "class TestCompress(ut.TestCase):\n",
    "\n",
    "    def test(self, sol):\n",
    "        self.assertEqual(sol(''), '')\n",
    "        self.assertEqual(sol('AABBCC'), 'A2B2C2')\n",
    "        self.assertEqual(sol('AAABCCDDDDD'), 'A3B1C2D5')\n",
    "        print('ALL TEST CASES PASSED')\n",
    "\n",
    "# Run Tests\n",
    "t = TestCompress()\n",
    "t.test(compress)"
   ]
  },
  {
   "cell_type": "code",
   "execution_count": null,
   "metadata": {},
   "outputs": [],
   "source": [
    "#3 Given a string of words, reverse all the words"
   ]
  },
  {
   "cell_type": "code",
   "execution_count": null,
   "metadata": {},
   "outputs": [],
   "source": [
    "def rev_word(s):\n",
    "    words = []\n",
    "    space = [' ']\n",
    "    length = len(s)\n",
    "    i = 0\n",
    "    \n",
    "    while i < length:\n",
    "        if s[i] not in space:\n",
    "            word_pos = i\n",
    "            while i < length and s[i] not in space:\n",
    "                i += 1\n",
    "            words.append(s[word_pos:i]) \n",
    "        else:\n",
    "            i += 1\n",
    "         \n",
    "    str_rev = words[len(words)-1]    \n",
    "    for j in range(len(words)-1):\n",
    "        str_rev += \" \" + str(words[len(words)-j-2])\n",
    "    return str_rev    "
   ]
  },
  {
   "cell_type": "code",
   "execution_count": null,
   "metadata": {},
   "outputs": [],
   "source": [
    "\"\"\"\n",
    "RUN THIS CELL TO TEST THE SOLUTION\n",
    "\"\"\"\n",
    "\n",
    "import unittest as ut\n",
    "\n",
    "class ReversalTest(ut.TestCase):\n",
    "    \n",
    "    def test(self,sol):\n",
    "        self.assertEqual(sol('    space before'),'before space')\n",
    "        self.assertEqual(sol('space after     '),'after space')\n",
    "        self.assertEqual(sol('   Hello John    how are you   '),'you are how John Hello')\n",
    "        self.assertEqual(sol('1'),'1')\n",
    "        print(\"ALL TEST CASES PASSED\")\n",
    "        \n",
    "# Run and test\n",
    "t = ReversalTest()\n",
    "t.test(rev_word)"
   ]
  },
  {
   "cell_type": "code",
   "execution_count": null,
   "metadata": {},
   "outputs": [],
   "source": [
    "#4 Given an array of integers (positive and negative) find the largest continuous sum"
   ]
  },
  {
   "cell_type": "code",
   "execution_count": null,
   "metadata": {},
   "outputs": [],
   "source": [
    "def large_cont_sum(arr): \n",
    "    if len(arr) == 0:\n",
    "        return 0\n",
    "    max_sum = curr_sum = arr[0]\n",
    "    \n",
    "    for num in arr[1:]:\n",
    "        curr_sum = max(num, curr_sum + num)\n",
    "        max_sum = max(curr_sum, max_sum)\n",
    "    return max_sum    "
   ]
  },
  {
   "cell_type": "code",
   "execution_count": null,
   "metadata": {},
   "outputs": [],
   "source": [
    "import unittest\n",
    "\n",
    "class LargeContTest(unittest.TestCase):\n",
    "    def test(self,sol):\n",
    "        self.assertEqual(sol([1,2,-1,3,4,-1]),9)\n",
    "        self.assertEqual(sol([1,2,-1,3,4,10,10,-10,-1]),29)\n",
    "        self.assertEqual(sol([-1,1]),1)\n",
    "        print('ALL TEST CASES PASSED')\n",
    "        \n",
    "#Run Test\n",
    "t = LargeContTest()\n",
    "t.test(large_cont_sum)"
   ]
  },
  {
   "cell_type": "code",
   "execution_count": null,
   "metadata": {},
   "outputs": [],
   "source": [
    "#5 Consider an array of non-negative integers. A second array is formed by shuffling the elements of the first \n",
    "#  array and deleting a random element. Given these two arrays, find which element is missing in the second array"
   ]
  },
  {
   "cell_type": "code",
   "execution_count": null,
   "metadata": {},
   "outputs": [],
   "source": [
    "def finder(arr1,arr2):\n",
    "    sum1 = 0\n",
    "    sum2 = 0\n",
    "    for num in arr1:\n",
    "        sum1 += num\n",
    "    for num in arr2:\n",
    "        sum1 -= num\n",
    "\n",
    "    return sum1"
   ]
  },
  {
   "cell_type": "code",
   "execution_count": null,
   "metadata": {},
   "outputs": [],
   "source": [
    "\"\"\"\n",
    "RUN THIS CELL TO TEST THE SOLUTION\n",
    "\"\"\"\n",
    "import unittest\n",
    "\n",
    "class TestFinder(unittest.TestCase):\n",
    "    \n",
    "    def test(self,sol):\n",
    "        self.assertEqual(sol([5,5,7,7],[5,7,7]),5)\n",
    "        self.assertEqual(sol([1,2,3,4,5,6,7],[3,7,2,1,4,6]),5)\n",
    "        self.assertEqual(sol([9,8,7,6,5,4,3,2,1],[9,8,7,5,4,3,2,1]),6)\n",
    "        print('ALL TEST CASES PASSED')\n",
    "\n",
    "# Run test\n",
    "t = TestFinder()\n",
    "t.test(finder)"
   ]
  },
  {
   "cell_type": "code",
   "execution_count": null,
   "metadata": {},
   "outputs": [],
   "source": [
    "#6 Given an integer array, output total number of unique pairs that sum up to a specific value k"
   ]
  },
  {
   "cell_type": "code",
   "execution_count": null,
   "metadata": {},
   "outputs": [],
   "source": [
    "def pair_sum(arr,k):\n",
    "    if len(arr) < 2:\n",
    "        return None\n",
    "    \n",
    "    seen = set()\n",
    "    output = set()\n",
    "    \n",
    "    for num in arr:\n",
    "        target = k - num\n",
    "        if target not in seen:\n",
    "            seen.add(num)\n",
    "        else:\n",
    "            output.add((min(num, target), max(num, target)))\n",
    "    return len(output) "
   ]
  },
  {
   "cell_type": "code",
   "execution_count": null,
   "metadata": {},
   "outputs": [],
   "source": [
    "\"\"\"\n",
    "RUN THIS CELL TO TEST THE SOLUTION\n",
    "\"\"\"\n",
    "import unittest\n",
    "\n",
    "class TestPair(unittest.TestCase):\n",
    "    \n",
    "    def test(self,sol):\n",
    "        self.assertEqual(sol([1,9,2,8,3,7,4,6,5,5,13,14,11,13,-1],10),6)\n",
    "        self.assertEqual(sol([1,2,3,1],3),1)\n",
    "        self.assertEqual(sol([1,3,2,2],4),2)\n",
    "        print('ALL TEST CASES PASSED')\n",
    "        \n",
    "#Run tests\n",
    "t = TestPair()\n",
    "t.test(pair_sum)"
   ]
  },
  {
   "cell_type": "code",
   "execution_count": null,
   "metadata": {},
   "outputs": [],
   "source": [
    "#7 Given two strings, check to see if they are anagrams"
   ]
  },
  {
   "cell_type": "code",
   "execution_count": null,
   "metadata": {},
   "outputs": [],
   "source": [
    "def anagram(s1, s2):\n",
    "    s1 = s1.replace(\" \",\"\").lower()\n",
    "    s2 = s2.replace(\" \",\"\").lower()\n",
    "    if len(s1) != len(s2):\n",
    "        return False\n",
    "    dict_c = {}\n",
    "\n",
    "    for letter in s1:\n",
    "        if letter in dict_c:\n",
    "            dict_c[letter] += 1\n",
    "        else:\n",
    "            dict_c[letter] = 1\n",
    "            \n",
    "    for letter in s2:\n",
    "        if letter in dict_c:\n",
    "            dict_c[letter] -= 1\n",
    "        else:\n",
    "            dict_c[letter] = 1  \n",
    "    for letter in dict_c:\n",
    "        if dict_c[letter] != 0:\n",
    "            return False\n",
    "    return True    "
   ]
  },
  {
   "cell_type": "code",
   "execution_count": null,
   "metadata": {},
   "outputs": [],
   "source": [
    "\"\"\"\n",
    "RUN THIS CELL TO TEST THE SOLUTION\n",
    "\"\"\"\n",
    "import unittest\n",
    "\n",
    "class AnagramTest(unittest.TestCase):\n",
    "    \n",
    "    def test(self, sol):\n",
    "        self.assertTrue(sol('go go go','gggooo'))\n",
    "        self.assertTrue(sol('abc','cba'))\n",
    "        self.assertTrue(sol('hi man','hi     man'))\n",
    "        self.assertFalse(sol('aabbcc','aabbc'))\n",
    "        self.assertFalse(sol('123','1 2'))\n",
    "        print(\"ALL TEST CASES PASSED\")\n",
    "\n",
    "# Run Tests\n",
    "t = AnagramTest()\n",
    "t.test(anagram)"
   ]
  }
 ],
 "metadata": {
  "kernelspec": {
   "display_name": "Python 3",
   "language": "python",
   "name": "python3"
  },
  "language_info": {
   "codemirror_mode": {
    "name": "ipython",
    "version": 3
   },
   "file_extension": ".py",
   "mimetype": "text/x-python",
   "name": "python",
   "nbconvert_exporter": "python",
   "pygments_lexer": "ipython3",
   "version": "3.5.2"
  }
 },
 "nbformat": 4,
 "nbformat_minor": 2
}
