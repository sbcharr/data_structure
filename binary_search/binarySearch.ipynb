{
 "cells": [
  {
   "cell_type": "markdown",
   "metadata": {},
   "source": [
    "### Binary Search algorithm in python3"
   ]
  },
  {
   "cell_type": "code",
   "execution_count": null,
   "metadata": {},
   "outputs": [],
   "source": [
    "# Define a function which does a binary serch on a sorted input array (list)\n",
    "# If the number is found then function returns the index of that number (based on 0th index) else returns -1\n",
    "\n",
    "def binarySearch(arr, x):\n",
    "    min = 0\n",
    "    max = len(arr) - 1\n",
    "    \n",
    "    while min <= max:\n",
    "        guess = int((min + max)/2)\n",
    "        if x == arr[guess]: \n",
    "            return guess\n",
    "        elif x > arr[guess]:\n",
    "            min = guess + 1\n",
    "        else:\n",
    "            max = guess - 1\n",
    "    return -1 "
   ]
  },
  {
   "cell_type": "code",
   "execution_count": null,
   "metadata": {},
   "outputs": [],
   "source": [
    "\"\"\"\n",
    "    TEST CASES TO TEST THE BINARY SEARCH\n",
    "\"\"\"\n",
    "\n",
    "import unittest as ut\n",
    "\n",
    "class TestBinarySearch(ut.TestCase):\n",
    "    \n",
    "    def test(self, sol):\n",
    "        self.assertEqual(sol([2, 3, 4, 10, 40], 10), 3)\n",
    "        self.assertEqual(sol([5, 9, 40, 112, 180, 189, 267, 576, 342], 137), -1)\n",
    "        self.assertEqual(sol([2, 3, 5, 7, 11, 13, 17, 19, 23, 29, 31, 37, 41, 43, 47, 53, 59, 61, 67, 71, 73, 79, \\\n",
    "                             83, 89, 97], 67), 18)\n",
    "        print(\"All Test Cases Passed.\")\n",
    "        \n",
    "# RUN THE TEST\n",
    "t = TestBinarySearch()\n",
    "t.test(binarySearch) "
   ]
  }
 ],
 "metadata": {
  "kernelspec": {
   "display_name": "Python 3",
   "language": "python",
   "name": "python3"
  },
  "language_info": {
   "codemirror_mode": {
    "name": "ipython",
    "version": 3
   },
   "file_extension": ".py",
   "mimetype": "text/x-python",
   "name": "python",
   "nbconvert_exporter": "python",
   "pygments_lexer": "ipython3",
   "version": "3.5.2"
  }
 },
 "nbformat": 4,
 "nbformat_minor": 2
}
